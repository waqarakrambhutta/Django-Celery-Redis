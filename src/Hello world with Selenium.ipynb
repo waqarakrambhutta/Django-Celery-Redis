{
 "cells": [
  {
   "cell_type": "code",
   "execution_count": null,
   "id": "c858954c-4052-4fbb-a215-786a41d58418",
   "metadata": {},
   "outputs": [],
   "source": [
    "from selenium import webdriver\n",
    "from selenium.webdriver import ChromeOptions\n",
    "import time"
   ]
  },
  {
   "cell_type": "code",
   "execution_count": null,
   "id": "b93424a5-0ba7-4ce8-b113-1560fda0f8ca",
   "metadata": {},
   "outputs": [],
   "source": [
    "options = ChromeOptions()\n",
    "# options.add_argument('--headless')"
   ]
  },
  {
   "cell_type": "code",
   "execution_count": 4,
   "id": "7219fcd7",
   "metadata": {},
   "outputs": [],
   "source": [
    "url = 'https://www.amazon.com/PlayStation-5-Console-CFI-1215A01X/dp/B0BCNKKZ91'"
   ]
  },
  {
   "cell_type": "code",
   "execution_count": 5,
   "id": "b521b514",
   "metadata": {},
   "outputs": [
    {
     "ename": "NameError",
     "evalue": "name 'time' is not defined",
     "output_type": "error",
     "traceback": [
      "\u001b[31m---------------------------------------------------------------------------\u001b[39m",
      "\u001b[31mNameError\u001b[39m                                 Traceback (most recent call last)",
      "\u001b[36mCell\u001b[39m\u001b[36m \u001b[39m\u001b[32mIn[5]\u001b[39m\u001b[32m, line 3\u001b[39m\n\u001b[32m      1\u001b[39m \u001b[38;5;28;01mwith\u001b[39;00m webdriver.Chrome(options=options) \u001b[38;5;28;01mas\u001b[39;00m driver:\n\u001b[32m      2\u001b[39m     driver.get(url)\n\u001b[32m----> \u001b[39m\u001b[32m3\u001b[39m     \u001b[43mtime\u001b[49m.sleep(\u001b[32m10\u001b[39m)\n",
      "\u001b[31mNameError\u001b[39m: name 'time' is not defined"
     ]
    }
   ],
   "source": [
    "with webdriver.Chrome(options=options) as driver:\n",
    "    driver.get(url)\n",
    "    time.sleep(10)"
   ]
  }
 ],
 "metadata": {
  "kernelspec": {
   "display_name": ".venv",
   "language": "python",
   "name": "python3"
  },
  "language_info": {
   "codemirror_mode": {
    "name": "ipython",
    "version": 3
   },
   "file_extension": ".py",
   "mimetype": "text/x-python",
   "name": "python",
   "nbconvert_exporter": "python",
   "pygments_lexer": "ipython3",
   "version": "3.12.3"
  }
 },
 "nbformat": 4,
 "nbformat_minor": 5
}
